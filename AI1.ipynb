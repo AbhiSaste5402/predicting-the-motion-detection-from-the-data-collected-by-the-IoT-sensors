{
  "nbformat": 4,
  "nbformat_minor": 0,
  "metadata": {
    "colab": {
      "provenance": []
    },
    "kernelspec": {
      "name": "python3",
      "display_name": "Python 3"
    },
    "language_info": {
      "name": "python"
    }
  },
  "cells": [
    {
      "cell_type": "code",
      "execution_count": null,
      "metadata": {
        "colab": {
          "base_uri": "https://localhost:8080/"
        },
        "id": "_K8UANtVr5oO",
        "outputId": "6d2dccde-50b8-4f85-91f4-97485ae28297"
      },
      "outputs": [
        {
          "output_type": "stream",
          "name": "stdout",
          "text": [
            "Mounted at /content/drive\n"
          ]
        }
      ],
      "source": [
        "from google.colab import drive\n",
        "drive.mount('/content/drive')"
      ]
    },
    {
      "cell_type": "code",
      "source": [
        "import pandas as pd\n",
        "import numpy as np"
      ],
      "metadata": {
        "id": "Q4HpEVwAsfrp"
      },
      "execution_count": null,
      "outputs": []
    },
    {
      "cell_type": "code",
      "source": [
        "df = pd.read_csv('/content/drive/MyDrive/data.csv')\n",
        "df.head()"
      ],
      "metadata": {
        "colab": {
          "base_uri": "https://localhost:8080/",
          "height": 206
        },
        "id": "CkvGHA25sfvY",
        "outputId": "736c6bc2-673c-4770-e59d-627fd644c87a"
      },
      "execution_count": null,
      "outputs": [
        {
          "output_type": "execute_result",
          "data": {
            "text/plain": [
              "             ts             device        co   humidity  light       gas  \\\n",
              "0  1.590000e+09  b8:27:eb:bf:9d:51  0.004956  51.000000  False  0.007651   \n",
              "1  1.590000e+09  00:0f:00:70:91:0a  0.002840  76.000000  False  0.005114   \n",
              "2  1.590000e+09  b8:27:eb:bf:9d:51  0.004976  50.900000  False  0.007673   \n",
              "3  1.590000e+09  1c:bf:ce:15:ec:4d  0.004403  76.800003   True  0.007023   \n",
              "4  1.590000e+09  b8:27:eb:bf:9d:51  0.004967  50.900000  False  0.007664   \n",
              "\n",
              "   motion     smoke       temp  \n",
              "0   False  0.020411  22.700000  \n",
              "1   False  0.013275  19.700001  \n",
              "2   False  0.020475  22.600000  \n",
              "3   False  0.018628  27.000000  \n",
              "4   False  0.020448  22.600000  "
            ],
            "text/html": [
              "\n",
              "  <div id=\"df-f525ccc0-7884-49e5-b3be-2e36832d36c7\">\n",
              "    <div class=\"colab-df-container\">\n",
              "      <div>\n",
              "<style scoped>\n",
              "    .dataframe tbody tr th:only-of-type {\n",
              "        vertical-align: middle;\n",
              "    }\n",
              "\n",
              "    .dataframe tbody tr th {\n",
              "        vertical-align: top;\n",
              "    }\n",
              "\n",
              "    .dataframe thead th {\n",
              "        text-align: right;\n",
              "    }\n",
              "</style>\n",
              "<table border=\"1\" class=\"dataframe\">\n",
              "  <thead>\n",
              "    <tr style=\"text-align: right;\">\n",
              "      <th></th>\n",
              "      <th>ts</th>\n",
              "      <th>device</th>\n",
              "      <th>co</th>\n",
              "      <th>humidity</th>\n",
              "      <th>light</th>\n",
              "      <th>gas</th>\n",
              "      <th>motion</th>\n",
              "      <th>smoke</th>\n",
              "      <th>temp</th>\n",
              "    </tr>\n",
              "  </thead>\n",
              "  <tbody>\n",
              "    <tr>\n",
              "      <th>0</th>\n",
              "      <td>1.590000e+09</td>\n",
              "      <td>b8:27:eb:bf:9d:51</td>\n",
              "      <td>0.004956</td>\n",
              "      <td>51.000000</td>\n",
              "      <td>False</td>\n",
              "      <td>0.007651</td>\n",
              "      <td>False</td>\n",
              "      <td>0.020411</td>\n",
              "      <td>22.700000</td>\n",
              "    </tr>\n",
              "    <tr>\n",
              "      <th>1</th>\n",
              "      <td>1.590000e+09</td>\n",
              "      <td>00:0f:00:70:91:0a</td>\n",
              "      <td>0.002840</td>\n",
              "      <td>76.000000</td>\n",
              "      <td>False</td>\n",
              "      <td>0.005114</td>\n",
              "      <td>False</td>\n",
              "      <td>0.013275</td>\n",
              "      <td>19.700001</td>\n",
              "    </tr>\n",
              "    <tr>\n",
              "      <th>2</th>\n",
              "      <td>1.590000e+09</td>\n",
              "      <td>b8:27:eb:bf:9d:51</td>\n",
              "      <td>0.004976</td>\n",
              "      <td>50.900000</td>\n",
              "      <td>False</td>\n",
              "      <td>0.007673</td>\n",
              "      <td>False</td>\n",
              "      <td>0.020475</td>\n",
              "      <td>22.600000</td>\n",
              "    </tr>\n",
              "    <tr>\n",
              "      <th>3</th>\n",
              "      <td>1.590000e+09</td>\n",
              "      <td>1c:bf:ce:15:ec:4d</td>\n",
              "      <td>0.004403</td>\n",
              "      <td>76.800003</td>\n",
              "      <td>True</td>\n",
              "      <td>0.007023</td>\n",
              "      <td>False</td>\n",
              "      <td>0.018628</td>\n",
              "      <td>27.000000</td>\n",
              "    </tr>\n",
              "    <tr>\n",
              "      <th>4</th>\n",
              "      <td>1.590000e+09</td>\n",
              "      <td>b8:27:eb:bf:9d:51</td>\n",
              "      <td>0.004967</td>\n",
              "      <td>50.900000</td>\n",
              "      <td>False</td>\n",
              "      <td>0.007664</td>\n",
              "      <td>False</td>\n",
              "      <td>0.020448</td>\n",
              "      <td>22.600000</td>\n",
              "    </tr>\n",
              "  </tbody>\n",
              "</table>\n",
              "</div>\n",
              "      <button class=\"colab-df-convert\" onclick=\"convertToInteractive('df-f525ccc0-7884-49e5-b3be-2e36832d36c7')\"\n",
              "              title=\"Convert this dataframe to an interactive table.\"\n",
              "              style=\"display:none;\">\n",
              "        \n",
              "  <svg xmlns=\"http://www.w3.org/2000/svg\" height=\"24px\"viewBox=\"0 0 24 24\"\n",
              "       width=\"24px\">\n",
              "    <path d=\"M0 0h24v24H0V0z\" fill=\"none\"/>\n",
              "    <path d=\"M18.56 5.44l.94 2.06.94-2.06 2.06-.94-2.06-.94-.94-2.06-.94 2.06-2.06.94zm-11 1L8.5 8.5l.94-2.06 2.06-.94-2.06-.94L8.5 2.5l-.94 2.06-2.06.94zm10 10l.94 2.06.94-2.06 2.06-.94-2.06-.94-.94-2.06-.94 2.06-2.06.94z\"/><path d=\"M17.41 7.96l-1.37-1.37c-.4-.4-.92-.59-1.43-.59-.52 0-1.04.2-1.43.59L10.3 9.45l-7.72 7.72c-.78.78-.78 2.05 0 2.83L4 21.41c.39.39.9.59 1.41.59.51 0 1.02-.2 1.41-.59l7.78-7.78 2.81-2.81c.8-.78.8-2.07 0-2.86zM5.41 20L4 18.59l7.72-7.72 1.47 1.35L5.41 20z\"/>\n",
              "  </svg>\n",
              "      </button>\n",
              "      \n",
              "  <style>\n",
              "    .colab-df-container {\n",
              "      display:flex;\n",
              "      flex-wrap:wrap;\n",
              "      gap: 12px;\n",
              "    }\n",
              "\n",
              "    .colab-df-convert {\n",
              "      background-color: #E8F0FE;\n",
              "      border: none;\n",
              "      border-radius: 50%;\n",
              "      cursor: pointer;\n",
              "      display: none;\n",
              "      fill: #1967D2;\n",
              "      height: 32px;\n",
              "      padding: 0 0 0 0;\n",
              "      width: 32px;\n",
              "    }\n",
              "\n",
              "    .colab-df-convert:hover {\n",
              "      background-color: #E2EBFA;\n",
              "      box-shadow: 0px 1px 2px rgba(60, 64, 67, 0.3), 0px 1px 3px 1px rgba(60, 64, 67, 0.15);\n",
              "      fill: #174EA6;\n",
              "    }\n",
              "\n",
              "    [theme=dark] .colab-df-convert {\n",
              "      background-color: #3B4455;\n",
              "      fill: #D2E3FC;\n",
              "    }\n",
              "\n",
              "    [theme=dark] .colab-df-convert:hover {\n",
              "      background-color: #434B5C;\n",
              "      box-shadow: 0px 1px 3px 1px rgba(0, 0, 0, 0.15);\n",
              "      filter: drop-shadow(0px 1px 2px rgba(0, 0, 0, 0.3));\n",
              "      fill: #FFFFFF;\n",
              "    }\n",
              "  </style>\n",
              "\n",
              "      <script>\n",
              "        const buttonEl =\n",
              "          document.querySelector('#df-f525ccc0-7884-49e5-b3be-2e36832d36c7 button.colab-df-convert');\n",
              "        buttonEl.style.display =\n",
              "          google.colab.kernel.accessAllowed ? 'block' : 'none';\n",
              "\n",
              "        async function convertToInteractive(key) {\n",
              "          const element = document.querySelector('#df-f525ccc0-7884-49e5-b3be-2e36832d36c7');\n",
              "          const dataTable =\n",
              "            await google.colab.kernel.invokeFunction('convertToInteractive',\n",
              "                                                     [key], {});\n",
              "          if (!dataTable) return;\n",
              "\n",
              "          const docLinkHtml = 'Like what you see? Visit the ' +\n",
              "            '<a target=\"_blank\" href=https://colab.research.google.com/notebooks/data_table.ipynb>data table notebook</a>'\n",
              "            + ' to learn more about interactive tables.';\n",
              "          element.innerHTML = '';\n",
              "          dataTable['output_type'] = 'display_data';\n",
              "          await google.colab.output.renderOutput(dataTable, element);\n",
              "          const docLink = document.createElement('div');\n",
              "          docLink.innerHTML = docLinkHtml;\n",
              "          element.appendChild(docLink);\n",
              "        }\n",
              "      </script>\n",
              "    </div>\n",
              "  </div>\n",
              "  "
            ]
          },
          "metadata": {},
          "execution_count": 3
        }
      ]
    },
    {
      "cell_type": "code",
      "source": [
        "df.shape"
      ],
      "metadata": {
        "colab": {
          "base_uri": "https://localhost:8080/"
        },
        "id": "TERvpmg8sfzA",
        "outputId": "8fe9a406-f04b-4b15-f9a2-4bac292dbd25"
      },
      "execution_count": null,
      "outputs": [
        {
          "output_type": "execute_result",
          "data": {
            "text/plain": [
              "(405184, 9)"
            ]
          },
          "metadata": {},
          "execution_count": 4
        }
      ]
    },
    {
      "cell_type": "code",
      "source": [
        "df.info()"
      ],
      "metadata": {
        "colab": {
          "base_uri": "https://localhost:8080/"
        },
        "id": "Puv1sWmTDrpl",
        "outputId": "08abc4a7-b2cc-434e-b0c7-1f5e84b8be5d"
      },
      "execution_count": null,
      "outputs": [
        {
          "output_type": "stream",
          "name": "stdout",
          "text": [
            "<class 'pandas.core.frame.DataFrame'>\n",
            "RangeIndex: 405184 entries, 0 to 405183\n",
            "Data columns (total 9 columns):\n",
            " #   Column    Non-Null Count   Dtype  \n",
            "---  ------    --------------   -----  \n",
            " 0   ts        405184 non-null  float64\n",
            " 1   device    405184 non-null  object \n",
            " 2   co        405184 non-null  float64\n",
            " 3   humidity  405184 non-null  float64\n",
            " 4   light     405184 non-null  bool   \n",
            " 5   gas       405184 non-null  float64\n",
            " 6   motion    405184 non-null  bool   \n",
            " 7   smoke     405184 non-null  float64\n",
            " 8   temp      405184 non-null  float64\n",
            "dtypes: bool(2), float64(6), object(1)\n",
            "memory usage: 22.4+ MB\n"
          ]
        }
      ]
    },
    {
      "cell_type": "code",
      "source": [
        "df.describe()"
      ],
      "metadata": {
        "colab": {
          "base_uri": "https://localhost:8080/",
          "height": 300
        },
        "id": "4D_cBFVVD4Rl",
        "outputId": "5093ca21-d065-45c3-968d-733265079821"
      },
      "execution_count": null,
      "outputs": [
        {
          "output_type": "execute_result",
          "data": {
            "text/plain": [
              "                 ts             co       humidity            gas  \\\n",
              "count  4.051840e+05  405184.000000  405184.000000  405184.000000   \n",
              "mean   1.592943e+09       0.004639      60.511694       0.007237   \n",
              "std    4.557306e+06       0.001250      11.366489       0.001444   \n",
              "min    1.590000e+09       0.001171       1.100000       0.002693   \n",
              "25%    1.590000e+09       0.003919      51.000000       0.006456   \n",
              "50%    1.590000e+09       0.004812      54.900000       0.007489   \n",
              "75%    1.600000e+09       0.005409      74.300003       0.008150   \n",
              "max    1.600000e+09       0.014420      99.900002       0.016567   \n",
              "\n",
              "               smoke           temp  \n",
              "count  405184.000000  405184.000000  \n",
              "mean        0.019264      22.453987  \n",
              "std         0.004086       2.698347  \n",
              "min         0.006692       0.000000  \n",
              "25%         0.017024      19.900000  \n",
              "50%         0.019950      22.200000  \n",
              "75%         0.021838      23.600000  \n",
              "max         0.046590      30.600000  "
            ],
            "text/html": [
              "\n",
              "  <div id=\"df-56a6834d-5fcc-4bda-bfc6-cd371e671288\">\n",
              "    <div class=\"colab-df-container\">\n",
              "      <div>\n",
              "<style scoped>\n",
              "    .dataframe tbody tr th:only-of-type {\n",
              "        vertical-align: middle;\n",
              "    }\n",
              "\n",
              "    .dataframe tbody tr th {\n",
              "        vertical-align: top;\n",
              "    }\n",
              "\n",
              "    .dataframe thead th {\n",
              "        text-align: right;\n",
              "    }\n",
              "</style>\n",
              "<table border=\"1\" class=\"dataframe\">\n",
              "  <thead>\n",
              "    <tr style=\"text-align: right;\">\n",
              "      <th></th>\n",
              "      <th>ts</th>\n",
              "      <th>co</th>\n",
              "      <th>humidity</th>\n",
              "      <th>gas</th>\n",
              "      <th>smoke</th>\n",
              "      <th>temp</th>\n",
              "    </tr>\n",
              "  </thead>\n",
              "  <tbody>\n",
              "    <tr>\n",
              "      <th>count</th>\n",
              "      <td>4.051840e+05</td>\n",
              "      <td>405184.000000</td>\n",
              "      <td>405184.000000</td>\n",
              "      <td>405184.000000</td>\n",
              "      <td>405184.000000</td>\n",
              "      <td>405184.000000</td>\n",
              "    </tr>\n",
              "    <tr>\n",
              "      <th>mean</th>\n",
              "      <td>1.592943e+09</td>\n",
              "      <td>0.004639</td>\n",
              "      <td>60.511694</td>\n",
              "      <td>0.007237</td>\n",
              "      <td>0.019264</td>\n",
              "      <td>22.453987</td>\n",
              "    </tr>\n",
              "    <tr>\n",
              "      <th>std</th>\n",
              "      <td>4.557306e+06</td>\n",
              "      <td>0.001250</td>\n",
              "      <td>11.366489</td>\n",
              "      <td>0.001444</td>\n",
              "      <td>0.004086</td>\n",
              "      <td>2.698347</td>\n",
              "    </tr>\n",
              "    <tr>\n",
              "      <th>min</th>\n",
              "      <td>1.590000e+09</td>\n",
              "      <td>0.001171</td>\n",
              "      <td>1.100000</td>\n",
              "      <td>0.002693</td>\n",
              "      <td>0.006692</td>\n",
              "      <td>0.000000</td>\n",
              "    </tr>\n",
              "    <tr>\n",
              "      <th>25%</th>\n",
              "      <td>1.590000e+09</td>\n",
              "      <td>0.003919</td>\n",
              "      <td>51.000000</td>\n",
              "      <td>0.006456</td>\n",
              "      <td>0.017024</td>\n",
              "      <td>19.900000</td>\n",
              "    </tr>\n",
              "    <tr>\n",
              "      <th>50%</th>\n",
              "      <td>1.590000e+09</td>\n",
              "      <td>0.004812</td>\n",
              "      <td>54.900000</td>\n",
              "      <td>0.007489</td>\n",
              "      <td>0.019950</td>\n",
              "      <td>22.200000</td>\n",
              "    </tr>\n",
              "    <tr>\n",
              "      <th>75%</th>\n",
              "      <td>1.600000e+09</td>\n",
              "      <td>0.005409</td>\n",
              "      <td>74.300003</td>\n",
              "      <td>0.008150</td>\n",
              "      <td>0.021838</td>\n",
              "      <td>23.600000</td>\n",
              "    </tr>\n",
              "    <tr>\n",
              "      <th>max</th>\n",
              "      <td>1.600000e+09</td>\n",
              "      <td>0.014420</td>\n",
              "      <td>99.900002</td>\n",
              "      <td>0.016567</td>\n",
              "      <td>0.046590</td>\n",
              "      <td>30.600000</td>\n",
              "    </tr>\n",
              "  </tbody>\n",
              "</table>\n",
              "</div>\n",
              "      <button class=\"colab-df-convert\" onclick=\"convertToInteractive('df-56a6834d-5fcc-4bda-bfc6-cd371e671288')\"\n",
              "              title=\"Convert this dataframe to an interactive table.\"\n",
              "              style=\"display:none;\">\n",
              "        \n",
              "  <svg xmlns=\"http://www.w3.org/2000/svg\" height=\"24px\"viewBox=\"0 0 24 24\"\n",
              "       width=\"24px\">\n",
              "    <path d=\"M0 0h24v24H0V0z\" fill=\"none\"/>\n",
              "    <path d=\"M18.56 5.44l.94 2.06.94-2.06 2.06-.94-2.06-.94-.94-2.06-.94 2.06-2.06.94zm-11 1L8.5 8.5l.94-2.06 2.06-.94-2.06-.94L8.5 2.5l-.94 2.06-2.06.94zm10 10l.94 2.06.94-2.06 2.06-.94-2.06-.94-.94-2.06-.94 2.06-2.06.94z\"/><path d=\"M17.41 7.96l-1.37-1.37c-.4-.4-.92-.59-1.43-.59-.52 0-1.04.2-1.43.59L10.3 9.45l-7.72 7.72c-.78.78-.78 2.05 0 2.83L4 21.41c.39.39.9.59 1.41.59.51 0 1.02-.2 1.41-.59l7.78-7.78 2.81-2.81c.8-.78.8-2.07 0-2.86zM5.41 20L4 18.59l7.72-7.72 1.47 1.35L5.41 20z\"/>\n",
              "  </svg>\n",
              "      </button>\n",
              "      \n",
              "  <style>\n",
              "    .colab-df-container {\n",
              "      display:flex;\n",
              "      flex-wrap:wrap;\n",
              "      gap: 12px;\n",
              "    }\n",
              "\n",
              "    .colab-df-convert {\n",
              "      background-color: #E8F0FE;\n",
              "      border: none;\n",
              "      border-radius: 50%;\n",
              "      cursor: pointer;\n",
              "      display: none;\n",
              "      fill: #1967D2;\n",
              "      height: 32px;\n",
              "      padding: 0 0 0 0;\n",
              "      width: 32px;\n",
              "    }\n",
              "\n",
              "    .colab-df-convert:hover {\n",
              "      background-color: #E2EBFA;\n",
              "      box-shadow: 0px 1px 2px rgba(60, 64, 67, 0.3), 0px 1px 3px 1px rgba(60, 64, 67, 0.15);\n",
              "      fill: #174EA6;\n",
              "    }\n",
              "\n",
              "    [theme=dark] .colab-df-convert {\n",
              "      background-color: #3B4455;\n",
              "      fill: #D2E3FC;\n",
              "    }\n",
              "\n",
              "    [theme=dark] .colab-df-convert:hover {\n",
              "      background-color: #434B5C;\n",
              "      box-shadow: 0px 1px 3px 1px rgba(0, 0, 0, 0.15);\n",
              "      filter: drop-shadow(0px 1px 2px rgba(0, 0, 0, 0.3));\n",
              "      fill: #FFFFFF;\n",
              "    }\n",
              "  </style>\n",
              "\n",
              "      <script>\n",
              "        const buttonEl =\n",
              "          document.querySelector('#df-56a6834d-5fcc-4bda-bfc6-cd371e671288 button.colab-df-convert');\n",
              "        buttonEl.style.display =\n",
              "          google.colab.kernel.accessAllowed ? 'block' : 'none';\n",
              "\n",
              "        async function convertToInteractive(key) {\n",
              "          const element = document.querySelector('#df-56a6834d-5fcc-4bda-bfc6-cd371e671288');\n",
              "          const dataTable =\n",
              "            await google.colab.kernel.invokeFunction('convertToInteractive',\n",
              "                                                     [key], {});\n",
              "          if (!dataTable) return;\n",
              "\n",
              "          const docLinkHtml = 'Like what you see? Visit the ' +\n",
              "            '<a target=\"_blank\" href=https://colab.research.google.com/notebooks/data_table.ipynb>data table notebook</a>'\n",
              "            + ' to learn more about interactive tables.';\n",
              "          element.innerHTML = '';\n",
              "          dataTable['output_type'] = 'display_data';\n",
              "          await google.colab.output.renderOutput(dataTable, element);\n",
              "          const docLink = document.createElement('div');\n",
              "          docLink.innerHTML = docLinkHtml;\n",
              "          element.appendChild(docLink);\n",
              "        }\n",
              "      </script>\n",
              "    </div>\n",
              "  </div>\n",
              "  "
            ]
          },
          "metadata": {},
          "execution_count": 10
        }
      ]
    },
    {
      "cell_type": "code",
      "source": [
        "df.isnull().sum()"
      ],
      "metadata": {
        "colab": {
          "base_uri": "https://localhost:8080/"
        },
        "id": "ZpezUo-hszsA",
        "outputId": "01be9146-4053-4abd-e23b-0ca8a46f2687"
      },
      "execution_count": null,
      "outputs": [
        {
          "output_type": "execute_result",
          "data": {
            "text/plain": [
              "ts          0\n",
              "device      0\n",
              "co          0\n",
              "humidity    0\n",
              "light       0\n",
              "gas         0\n",
              "motion      0\n",
              "smoke       0\n",
              "temp        0\n",
              "dtype: int64"
            ]
          },
          "metadata": {},
          "execution_count": 5
        }
      ]
    },
    {
      "cell_type": "code",
      "source": [
        "df['ts'].unique()"
      ],
      "metadata": {
        "colab": {
          "base_uri": "https://localhost:8080/"
        },
        "id": "FNl3QBROszus",
        "outputId": "7c8303b4-2203-4cdb-d439-4a833bcd4041"
      },
      "execution_count": null,
      "outputs": [
        {
          "output_type": "execute_result",
          "data": {
            "text/plain": [
              "array([1.59e+09, 1.60e+09])"
            ]
          },
          "metadata": {},
          "execution_count": 6
        }
      ]
    },
    {
      "cell_type": "code",
      "source": [
        "df['device'].unique()"
      ],
      "metadata": {
        "colab": {
          "base_uri": "https://localhost:8080/"
        },
        "id": "rvEB5M2vszzn",
        "outputId": "125778a1-5b7b-4f57-8a91-e6c5484f72c5"
      },
      "execution_count": null,
      "outputs": [
        {
          "output_type": "execute_result",
          "data": {
            "text/plain": [
              "array(['b8:27:eb:bf:9d:51', '00:0f:00:70:91:0a', '1c:bf:ce:15:ec:4d'],\n",
              "      dtype=object)"
            ]
          },
          "metadata": {},
          "execution_count": 7
        }
      ]
    },
    {
      "cell_type": "code",
      "source": [
        "from sklearn.preprocessing import LabelEncoder\n",
        "Le = LabelEncoder()"
      ],
      "metadata": {
        "id": "f5K7Yyqnsz2C"
      },
      "execution_count": null,
      "outputs": []
    },
    {
      "cell_type": "code",
      "source": [
        "dfle = df\n",
        "dfle.light = Le.fit_transform(dfle.light)\n",
        "dfle.motion = Le.fit_transform(dfle.motion)\n",
        "dfle.device = Le.fit_transform(dfle.device)\n",
        "dfle.ts = Le.fit_transform(dfle.ts)\n",
        "dfle.head()"
      ],
      "metadata": {
        "colab": {
          "base_uri": "https://localhost:8080/",
          "height": 206
        },
        "id": "itQ1Tl6Lsz4v",
        "outputId": "0dc85ae7-eaf6-4f7d-f693-61706bda2308"
      },
      "execution_count": null,
      "outputs": [
        {
          "output_type": "execute_result",
          "data": {
            "text/plain": [
              "   ts  device        co   humidity  light       gas  motion     smoke  \\\n",
              "0   0       2  0.004956  51.000000      0  0.007651       0  0.020411   \n",
              "1   0       0  0.002840  76.000000      0  0.005114       0  0.013275   \n",
              "2   0       2  0.004976  50.900000      0  0.007673       0  0.020475   \n",
              "3   0       1  0.004403  76.800003      1  0.007023       0  0.018628   \n",
              "4   0       2  0.004967  50.900000      0  0.007664       0  0.020448   \n",
              "\n",
              "        temp  \n",
              "0  22.700000  \n",
              "1  19.700001  \n",
              "2  22.600000  \n",
              "3  27.000000  \n",
              "4  22.600000  "
            ],
            "text/html": [
              "\n",
              "  <div id=\"df-b5bb6ea6-e8df-4af2-9846-38ea5562954e\">\n",
              "    <div class=\"colab-df-container\">\n",
              "      <div>\n",
              "<style scoped>\n",
              "    .dataframe tbody tr th:only-of-type {\n",
              "        vertical-align: middle;\n",
              "    }\n",
              "\n",
              "    .dataframe tbody tr th {\n",
              "        vertical-align: top;\n",
              "    }\n",
              "\n",
              "    .dataframe thead th {\n",
              "        text-align: right;\n",
              "    }\n",
              "</style>\n",
              "<table border=\"1\" class=\"dataframe\">\n",
              "  <thead>\n",
              "    <tr style=\"text-align: right;\">\n",
              "      <th></th>\n",
              "      <th>ts</th>\n",
              "      <th>device</th>\n",
              "      <th>co</th>\n",
              "      <th>humidity</th>\n",
              "      <th>light</th>\n",
              "      <th>gas</th>\n",
              "      <th>motion</th>\n",
              "      <th>smoke</th>\n",
              "      <th>temp</th>\n",
              "    </tr>\n",
              "  </thead>\n",
              "  <tbody>\n",
              "    <tr>\n",
              "      <th>0</th>\n",
              "      <td>0</td>\n",
              "      <td>2</td>\n",
              "      <td>0.004956</td>\n",
              "      <td>51.000000</td>\n",
              "      <td>0</td>\n",
              "      <td>0.007651</td>\n",
              "      <td>0</td>\n",
              "      <td>0.020411</td>\n",
              "      <td>22.700000</td>\n",
              "    </tr>\n",
              "    <tr>\n",
              "      <th>1</th>\n",
              "      <td>0</td>\n",
              "      <td>0</td>\n",
              "      <td>0.002840</td>\n",
              "      <td>76.000000</td>\n",
              "      <td>0</td>\n",
              "      <td>0.005114</td>\n",
              "      <td>0</td>\n",
              "      <td>0.013275</td>\n",
              "      <td>19.700001</td>\n",
              "    </tr>\n",
              "    <tr>\n",
              "      <th>2</th>\n",
              "      <td>0</td>\n",
              "      <td>2</td>\n",
              "      <td>0.004976</td>\n",
              "      <td>50.900000</td>\n",
              "      <td>0</td>\n",
              "      <td>0.007673</td>\n",
              "      <td>0</td>\n",
              "      <td>0.020475</td>\n",
              "      <td>22.600000</td>\n",
              "    </tr>\n",
              "    <tr>\n",
              "      <th>3</th>\n",
              "      <td>0</td>\n",
              "      <td>1</td>\n",
              "      <td>0.004403</td>\n",
              "      <td>76.800003</td>\n",
              "      <td>1</td>\n",
              "      <td>0.007023</td>\n",
              "      <td>0</td>\n",
              "      <td>0.018628</td>\n",
              "      <td>27.000000</td>\n",
              "    </tr>\n",
              "    <tr>\n",
              "      <th>4</th>\n",
              "      <td>0</td>\n",
              "      <td>2</td>\n",
              "      <td>0.004967</td>\n",
              "      <td>50.900000</td>\n",
              "      <td>0</td>\n",
              "      <td>0.007664</td>\n",
              "      <td>0</td>\n",
              "      <td>0.020448</td>\n",
              "      <td>22.600000</td>\n",
              "    </tr>\n",
              "  </tbody>\n",
              "</table>\n",
              "</div>\n",
              "      <button class=\"colab-df-convert\" onclick=\"convertToInteractive('df-b5bb6ea6-e8df-4af2-9846-38ea5562954e')\"\n",
              "              title=\"Convert this dataframe to an interactive table.\"\n",
              "              style=\"display:none;\">\n",
              "        \n",
              "  <svg xmlns=\"http://www.w3.org/2000/svg\" height=\"24px\"viewBox=\"0 0 24 24\"\n",
              "       width=\"24px\">\n",
              "    <path d=\"M0 0h24v24H0V0z\" fill=\"none\"/>\n",
              "    <path d=\"M18.56 5.44l.94 2.06.94-2.06 2.06-.94-2.06-.94-.94-2.06-.94 2.06-2.06.94zm-11 1L8.5 8.5l.94-2.06 2.06-.94-2.06-.94L8.5 2.5l-.94 2.06-2.06.94zm10 10l.94 2.06.94-2.06 2.06-.94-2.06-.94-.94-2.06-.94 2.06-2.06.94z\"/><path d=\"M17.41 7.96l-1.37-1.37c-.4-.4-.92-.59-1.43-.59-.52 0-1.04.2-1.43.59L10.3 9.45l-7.72 7.72c-.78.78-.78 2.05 0 2.83L4 21.41c.39.39.9.59 1.41.59.51 0 1.02-.2 1.41-.59l7.78-7.78 2.81-2.81c.8-.78.8-2.07 0-2.86zM5.41 20L4 18.59l7.72-7.72 1.47 1.35L5.41 20z\"/>\n",
              "  </svg>\n",
              "      </button>\n",
              "      \n",
              "  <style>\n",
              "    .colab-df-container {\n",
              "      display:flex;\n",
              "      flex-wrap:wrap;\n",
              "      gap: 12px;\n",
              "    }\n",
              "\n",
              "    .colab-df-convert {\n",
              "      background-color: #E8F0FE;\n",
              "      border: none;\n",
              "      border-radius: 50%;\n",
              "      cursor: pointer;\n",
              "      display: none;\n",
              "      fill: #1967D2;\n",
              "      height: 32px;\n",
              "      padding: 0 0 0 0;\n",
              "      width: 32px;\n",
              "    }\n",
              "\n",
              "    .colab-df-convert:hover {\n",
              "      background-color: #E2EBFA;\n",
              "      box-shadow: 0px 1px 2px rgba(60, 64, 67, 0.3), 0px 1px 3px 1px rgba(60, 64, 67, 0.15);\n",
              "      fill: #174EA6;\n",
              "    }\n",
              "\n",
              "    [theme=dark] .colab-df-convert {\n",
              "      background-color: #3B4455;\n",
              "      fill: #D2E3FC;\n",
              "    }\n",
              "\n",
              "    [theme=dark] .colab-df-convert:hover {\n",
              "      background-color: #434B5C;\n",
              "      box-shadow: 0px 1px 3px 1px rgba(0, 0, 0, 0.15);\n",
              "      filter: drop-shadow(0px 1px 2px rgba(0, 0, 0, 0.3));\n",
              "      fill: #FFFFFF;\n",
              "    }\n",
              "  </style>\n",
              "\n",
              "      <script>\n",
              "        const buttonEl =\n",
              "          document.querySelector('#df-b5bb6ea6-e8df-4af2-9846-38ea5562954e button.colab-df-convert');\n",
              "        buttonEl.style.display =\n",
              "          google.colab.kernel.accessAllowed ? 'block' : 'none';\n",
              "\n",
              "        async function convertToInteractive(key) {\n",
              "          const element = document.querySelector('#df-b5bb6ea6-e8df-4af2-9846-38ea5562954e');\n",
              "          const dataTable =\n",
              "            await google.colab.kernel.invokeFunction('convertToInteractive',\n",
              "                                                     [key], {});\n",
              "          if (!dataTable) return;\n",
              "\n",
              "          const docLinkHtml = 'Like what you see? Visit the ' +\n",
              "            '<a target=\"_blank\" href=https://colab.research.google.com/notebooks/data_table.ipynb>data table notebook</a>'\n",
              "            + ' to learn more about interactive tables.';\n",
              "          element.innerHTML = '';\n",
              "          dataTable['output_type'] = 'display_data';\n",
              "          await google.colab.output.renderOutput(dataTable, element);\n",
              "          const docLink = document.createElement('div');\n",
              "          docLink.innerHTML = docLinkHtml;\n",
              "          element.appendChild(docLink);\n",
              "        }\n",
              "      </script>\n",
              "    </div>\n",
              "  </div>\n",
              "  "
            ]
          },
          "metadata": {},
          "execution_count": 9
        }
      ]
    },
    {
      "cell_type": "code",
      "source": [
        "print(dfle.describe())"
      ],
      "metadata": {
        "colab": {
          "base_uri": "https://localhost:8080/"
        },
        "id": "-j51Vkdusz7B",
        "outputId": "95f76e2e-d61d-4a9a-88a7-dc2b7624bfbc"
      },
      "execution_count": null,
      "outputs": [
        {
          "output_type": "stream",
          "name": "stdout",
          "text": [
            "                  ts         device             co       humidity  \\\n",
            "count  405184.000000  405184.000000  405184.000000  405184.000000   \n",
            "mean        0.294306       1.186671       0.004639      60.511694   \n",
            "std         0.455731       0.838897       0.001250      11.366489   \n",
            "min         0.000000       0.000000       0.001171       1.100000   \n",
            "25%         0.000000       0.000000       0.003919      51.000000   \n",
            "50%         0.000000       1.000000       0.004812      54.900000   \n",
            "75%         1.000000       2.000000       0.005409      74.300003   \n",
            "max         1.000000       2.000000       0.014420      99.900002   \n",
            "\n",
            "               light            gas        motion          smoke  \\\n",
            "count  405184.000000  405184.000000  405184.00000  405184.000000   \n",
            "mean        0.277718       0.007237       0.00119       0.019264   \n",
            "std         0.447874       0.001444       0.03447       0.004086   \n",
            "min         0.000000       0.002693       0.00000       0.006692   \n",
            "25%         0.000000       0.006456       0.00000       0.017024   \n",
            "50%         0.000000       0.007489       0.00000       0.019950   \n",
            "75%         1.000000       0.008150       0.00000       0.021838   \n",
            "max         1.000000       0.016567       1.00000       0.046590   \n",
            "\n",
            "                temp  \n",
            "count  405184.000000  \n",
            "mean       22.453987  \n",
            "std         2.698347  \n",
            "min         0.000000  \n",
            "25%        19.900000  \n",
            "50%        22.200000  \n",
            "75%        23.600000  \n",
            "max        30.600000  \n"
          ]
        }
      ]
    },
    {
      "cell_type": "code",
      "source": [
        "X = dfle.drop('motion', axis=1)\n",
        "y = dfle['motion']"
      ],
      "metadata": {
        "id": "VcZdsCmmsz9c"
      },
      "execution_count": null,
      "outputs": []
    },
    {
      "cell_type": "code",
      "source": [
        "from sklearn.model_selection import train_test_split\n",
        "X_train, X_test, y_train, y_test = train_test_split(X, y, train_size=0.80, random_state = 10)"
      ],
      "metadata": {
        "id": "hDt8_ag0tClA"
      },
      "execution_count": null,
      "outputs": []
    },
    {
      "cell_type": "code",
      "source": [
        "from sklearn.preprocessing import StandardScaler\n",
        "scaler = StandardScaler()\n",
        "scaler.fit(X_train)"
      ],
      "metadata": {
        "colab": {
          "base_uri": "https://localhost:8080/"
        },
        "id": "ucOs1QwmtCnq",
        "outputId": "9f2945f4-7499-4c01-8f57-3364779d9747"
      },
      "execution_count": null,
      "outputs": [
        {
          "output_type": "execute_result",
          "data": {
            "text/plain": [
              "StandardScaler()"
            ]
          },
          "metadata": {},
          "execution_count": 13
        }
      ]
    },
    {
      "cell_type": "code",
      "source": [
        "X_train_scaled = scaler.transform(X_train)\n",
        "X_test_scaled = scaler.transform(X_test)"
      ],
      "metadata": {
        "id": "knHEml3ItCqB"
      },
      "execution_count": null,
      "outputs": []
    },
    {
      "cell_type": "code",
      "source": [
        "import tensorflow as tf\n",
        "from tensorflow.keras.models import Sequential\n",
        "from tensorflow.keras.layers import Dense"
      ],
      "metadata": {
        "id": "IW-Pzxk7tCsh"
      },
      "execution_count": null,
      "outputs": []
    },
    {
      "cell_type": "code",
      "source": [
        "model = Sequential()\n",
        "model.add(Dense(128, input_dim=8, activation='relu'))\n",
        "model.add(Dense(64, activation='relu'))\n",
        "\n",
        "model.add(Dense(1, activation='linear'))\n",
        "\n",
        "model.compile(loss='mean_squared_error', optimizer='adam', metrics=['mae'])\n",
        "model.summary()\n",
        "\n"
      ],
      "metadata": {
        "colab": {
          "base_uri": "https://localhost:8080/"
        },
        "id": "vH7GNONytCvL",
        "outputId": "298751aa-1055-4d19-d4a4-91c5d7d07f3c"
      },
      "execution_count": null,
      "outputs": [
        {
          "output_type": "stream",
          "name": "stdout",
          "text": [
            "Model: \"sequential_1\"\n",
            "_________________________________________________________________\n",
            " Layer (type)                Output Shape              Param #   \n",
            "=================================================================\n",
            " dense_3 (Dense)             (None, 128)               1152      \n",
            "                                                                 \n",
            " dense_4 (Dense)             (None, 64)                8256      \n",
            "                                                                 \n",
            " dense_5 (Dense)             (None, 1)                 65        \n",
            "                                                                 \n",
            "=================================================================\n",
            "Total params: 9,473\n",
            "Trainable params: 9,473\n",
            "Non-trainable params: 0\n",
            "_________________________________________________________________\n"
          ]
        }
      ]
    },
    {
      "cell_type": "code",
      "source": [
        "history = model.fit(X_train_scaled, y_train, validation_split = 0.8, epochs = 100)"
      ],
      "metadata": {
        "colab": {
          "base_uri": "https://localhost:8080/"
        },
        "id": "eXVcwfV33TqR",
        "outputId": "0cd488d6-e143-40f2-a4f6-745021e7b8c9"
      },
      "execution_count": null,
      "outputs": [
        {
          "output_type": "stream",
          "name": "stdout",
          "text": [
            "Epoch 1/100\n",
            "2026/2026 [==============================] - 26s 13ms/step - loss: 0.0017 - mae: 0.0132 - val_loss: 0.0012 - val_mae: 0.0040\n",
            "Epoch 2/100\n",
            "2026/2026 [==============================] - 22s 11ms/step - loss: 0.0013 - mae: 0.0074 - val_loss: 0.0013 - val_mae: 0.0046\n",
            "Epoch 3/100\n",
            "2026/2026 [==============================] - 25s 13ms/step - loss: 0.0013 - mae: 0.0055 - val_loss: 0.0012 - val_mae: 0.0028\n",
            "Epoch 4/100\n",
            "2026/2026 [==============================] - 24s 12ms/step - loss: 0.0012 - mae: 0.0036 - val_loss: 0.0012 - val_mae: 0.0045\n",
            "Epoch 5/100\n",
            "2026/2026 [==============================] - 15s 7ms/step - loss: 0.0012 - mae: 0.0031 - val_loss: 0.0012 - val_mae: 0.0027\n",
            "Epoch 6/100\n",
            "2026/2026 [==============================] - 15s 8ms/step - loss: 0.0012 - mae: 0.0030 - val_loss: 0.0012 - val_mae: 0.0048\n",
            "Epoch 7/100\n",
            "2026/2026 [==============================] - 15s 7ms/step - loss: 0.0012 - mae: 0.0029 - val_loss: 0.0012 - val_mae: 0.0035\n",
            "Epoch 8/100\n",
            "2026/2026 [==============================] - 15s 7ms/step - loss: 0.0012 - mae: 0.0029 - val_loss: 0.0012 - val_mae: 0.0032\n",
            "Epoch 9/100\n",
            "2026/2026 [==============================] - 20s 10ms/step - loss: 0.0012 - mae: 0.0027 - val_loss: 0.0012 - val_mae: 0.0030\n",
            "Epoch 10/100\n",
            "2026/2026 [==============================] - 29s 14ms/step - loss: 0.0012 - mae: 0.0027 - val_loss: 0.0012 - val_mae: 0.0043\n",
            "Epoch 11/100\n",
            "2026/2026 [==============================] - 26s 13ms/step - loss: 0.0012 - mae: 0.0027 - val_loss: 0.0012 - val_mae: 0.0018\n",
            "Epoch 12/100\n",
            "2026/2026 [==============================] - 29s 14ms/step - loss: 0.0012 - mae: 0.0027 - val_loss: 0.0012 - val_mae: 0.0022\n",
            "Epoch 13/100\n",
            "2026/2026 [==============================] - 26s 13ms/step - loss: 0.0012 - mae: 0.0027 - val_loss: 0.0012 - val_mae: 0.0051\n",
            "Epoch 14/100\n",
            "2026/2026 [==============================] - 20s 10ms/step - loss: 0.0012 - mae: 0.0028 - val_loss: 0.0012 - val_mae: 0.0057\n",
            "Epoch 15/100\n",
            "2026/2026 [==============================] - 26s 13ms/step - loss: 0.0012 - mae: 0.0028 - val_loss: 0.0012 - val_mae: 0.0016\n",
            "Epoch 16/100\n",
            "2026/2026 [==============================] - 18s 9ms/step - loss: 0.0012 - mae: 0.0027 - val_loss: 0.0012 - val_mae: 0.0016\n",
            "Epoch 17/100\n",
            "2026/2026 [==============================] - 27s 13ms/step - loss: 0.0012 - mae: 0.0027 - val_loss: 0.0012 - val_mae: 0.0035\n",
            "Epoch 18/100\n",
            "2026/2026 [==============================] - 29s 14ms/step - loss: 0.0012 - mae: 0.0027 - val_loss: 0.0012 - val_mae: 0.0030\n",
            "Epoch 19/100\n",
            "2026/2026 [==============================] - 24s 12ms/step - loss: 0.0012 - mae: 0.0027 - val_loss: 0.0012 - val_mae: 0.0031\n",
            "Epoch 20/100\n",
            "2026/2026 [==============================] - 28s 14ms/step - loss: 0.0012 - mae: 0.0027 - val_loss: 0.0012 - val_mae: 0.0047\n",
            "Epoch 21/100\n",
            "2026/2026 [==============================] - 50s 25ms/step - loss: 0.0012 - mae: 0.0027 - val_loss: 0.0012 - val_mae: 0.0058\n",
            "Epoch 22/100\n",
            "2026/2026 [==============================] - 19s 9ms/step - loss: 0.0012 - mae: 0.0027 - val_loss: 0.0012 - val_mae: 0.0055\n",
            "Epoch 23/100\n",
            "2026/2026 [==============================] - 18s 9ms/step - loss: 0.0012 - mae: 0.0028 - val_loss: 0.0012 - val_mae: 0.0012\n",
            "Epoch 24/100\n",
            "2026/2026 [==============================] - 22s 11ms/step - loss: 0.0012 - mae: 0.0027 - val_loss: 0.0012 - val_mae: 0.0033\n",
            "Epoch 25/100\n",
            "2026/2026 [==============================] - 26s 13ms/step - loss: 0.0012 - mae: 0.0027 - val_loss: 0.0012 - val_mae: 0.0012\n",
            "Epoch 26/100\n",
            "2026/2026 [==============================] - 26s 13ms/step - loss: 0.0012 - mae: 0.0028 - val_loss: 0.0012 - val_mae: 0.0018\n",
            "Epoch 27/100\n",
            "2026/2026 [==============================] - 26s 13ms/step - loss: 0.0012 - mae: 0.0027 - val_loss: 0.0012 - val_mae: 0.0029\n",
            "Epoch 28/100\n",
            "2026/2026 [==============================] - 17s 8ms/step - loss: 0.0012 - mae: 0.0027 - val_loss: 0.0012 - val_mae: 0.0013\n",
            "Epoch 29/100\n",
            "2026/2026 [==============================] - 26s 13ms/step - loss: 0.0012 - mae: 0.0027 - val_loss: 0.0012 - val_mae: 0.0056\n",
            "Epoch 30/100\n",
            "2026/2026 [==============================] - 26s 13ms/step - loss: 0.0012 - mae: 0.0027 - val_loss: 0.0012 - val_mae: 0.0019\n",
            "Epoch 31/100\n",
            "2026/2026 [==============================] - 26s 13ms/step - loss: 0.0012 - mae: 0.0028 - val_loss: 0.0012 - val_mae: 0.0036\n",
            "Epoch 32/100\n",
            "2026/2026 [==============================] - 26s 13ms/step - loss: 0.0012 - mae: 0.0027 - val_loss: 0.0012 - val_mae: 0.0023\n",
            "Epoch 33/100\n",
            "2026/2026 [==============================] - 26s 13ms/step - loss: 0.0012 - mae: 0.0027 - val_loss: 0.0012 - val_mae: 0.0012\n",
            "Epoch 34/100\n",
            "2026/2026 [==============================] - 17s 8ms/step - loss: 0.0012 - mae: 0.0028 - val_loss: 0.0012 - val_mae: 0.0013\n",
            "Epoch 35/100\n",
            "2026/2026 [==============================] - 16s 8ms/step - loss: 0.0012 - mae: 0.0027 - val_loss: 0.0012 - val_mae: 0.0063\n",
            "Epoch 36/100\n",
            "2026/2026 [==============================] - 26s 13ms/step - loss: 0.0012 - mae: 0.0027 - val_loss: 0.0012 - val_mae: 0.0032\n",
            "Epoch 37/100\n",
            "2026/2026 [==============================] - 26s 13ms/step - loss: 0.0012 - mae: 0.0027 - val_loss: 0.0012 - val_mae: 0.0017\n",
            "Epoch 38/100\n",
            "2026/2026 [==============================] - 16s 8ms/step - loss: 0.0012 - mae: 0.0027 - val_loss: 0.0012 - val_mae: 0.0030\n",
            "Epoch 39/100\n",
            "2026/2026 [==============================] - 15s 7ms/step - loss: 0.0012 - mae: 0.0027 - val_loss: 0.0012 - val_mae: 0.0013\n",
            "Epoch 40/100\n",
            "2026/2026 [==============================] - 16s 8ms/step - loss: 0.0012 - mae: 0.0028 - val_loss: 0.0012 - val_mae: 0.0032\n",
            "Epoch 41/100\n",
            "2026/2026 [==============================] - 17s 8ms/step - loss: 0.0012 - mae: 0.0027 - val_loss: 0.0012 - val_mae: 0.0014\n",
            "Epoch 42/100\n",
            "2026/2026 [==============================] - 15s 8ms/step - loss: 0.0012 - mae: 0.0027 - val_loss: 0.0012 - val_mae: 0.0017\n",
            "Epoch 43/100\n",
            "2026/2026 [==============================] - 15s 8ms/step - loss: 0.0012 - mae: 0.0027 - val_loss: 0.0012 - val_mae: 0.0016\n",
            "Epoch 44/100\n",
            "2026/2026 [==============================] - 15s 8ms/step - loss: 0.0012 - mae: 0.0027 - val_loss: 0.0012 - val_mae: 0.0027\n",
            "Epoch 45/100\n",
            "2026/2026 [==============================] - 15s 7ms/step - loss: 0.0012 - mae: 0.0027 - val_loss: 0.0012 - val_mae: 0.0069\n",
            "Epoch 46/100\n",
            "2026/2026 [==============================] - 15s 7ms/step - loss: 0.0012 - mae: 0.0028 - val_loss: 0.0012 - val_mae: 0.0021\n",
            "Epoch 47/100\n",
            "2026/2026 [==============================] - 26s 13ms/step - loss: 0.0012 - mae: 0.0027 - val_loss: 0.0012 - val_mae: 0.0033\n",
            "Epoch 48/100\n",
            "2026/2026 [==============================] - 26s 13ms/step - loss: 0.0012 - mae: 0.0027 - val_loss: 0.0012 - val_mae: 0.0052\n",
            "Epoch 49/100\n",
            "2026/2026 [==============================] - 18s 9ms/step - loss: 0.0012 - mae: 0.0028 - val_loss: 0.0012 - val_mae: 0.0014\n",
            "Epoch 50/100\n",
            "2026/2026 [==============================] - 26s 13ms/step - loss: 0.0012 - mae: 0.0027 - val_loss: 0.0012 - val_mae: 0.0036\n",
            "Epoch 51/100\n",
            "2026/2026 [==============================] - 16s 8ms/step - loss: 0.0012 - mae: 0.0027 - val_loss: 0.0012 - val_mae: 0.0049\n",
            "Epoch 52/100\n",
            "2026/2026 [==============================] - 17s 8ms/step - loss: 0.0012 - mae: 0.0027 - val_loss: 0.0012 - val_mae: 0.0020\n",
            "Epoch 53/100\n",
            "2026/2026 [==============================] - 26s 13ms/step - loss: 0.0012 - mae: 0.0027 - val_loss: 0.0012 - val_mae: 0.0020\n",
            "Epoch 54/100\n",
            "2026/2026 [==============================] - 26s 13ms/step - loss: 0.0012 - mae: 0.0027 - val_loss: 0.0012 - val_mae: 0.0027\n",
            "Epoch 55/100\n",
            "2026/2026 [==============================] - 17s 8ms/step - loss: 0.0012 - mae: 0.0027 - val_loss: 0.0012 - val_mae: 0.0018\n",
            "Epoch 56/100\n",
            "2026/2026 [==============================] - 17s 8ms/step - loss: 0.0012 - mae: 0.0027 - val_loss: 0.0012 - val_mae: 0.0014\n",
            "Epoch 57/100\n",
            "2026/2026 [==============================] - 17s 9ms/step - loss: 0.0012 - mae: 0.0027 - val_loss: 0.0012 - val_mae: 0.0016\n",
            "Epoch 58/100\n",
            "2026/2026 [==============================] - 26s 13ms/step - loss: 0.0012 - mae: 0.0028 - val_loss: 0.0012 - val_mae: 0.0014\n",
            "Epoch 59/100\n",
            "2026/2026 [==============================] - 26s 13ms/step - loss: 0.0012 - mae: 0.0027 - val_loss: 0.0012 - val_mae: 0.0024\n",
            "Epoch 60/100\n",
            "2026/2026 [==============================] - 16s 8ms/step - loss: 0.0012 - mae: 0.0027 - val_loss: 0.0012 - val_mae: 0.0015\n",
            "Epoch 61/100\n",
            "2026/2026 [==============================] - 26s 13ms/step - loss: 0.0012 - mae: 0.0028 - val_loss: 0.0012 - val_mae: 0.0018\n",
            "Epoch 62/100\n",
            "2026/2026 [==============================] - 17s 8ms/step - loss: 0.0012 - mae: 0.0027 - val_loss: 0.0013 - val_mae: 0.0080\n",
            "Epoch 63/100\n",
            "2026/2026 [==============================] - 18s 9ms/step - loss: 0.0012 - mae: 0.0027 - val_loss: 0.0012 - val_mae: 0.0019\n",
            "Epoch 64/100\n",
            "2026/2026 [==============================] - 17s 8ms/step - loss: 0.0012 - mae: 0.0028 - val_loss: 0.0012 - val_mae: 0.0057\n",
            "Epoch 65/100\n",
            "2026/2026 [==============================] - 26s 13ms/step - loss: 0.0012 - mae: 0.0028 - val_loss: 0.0012 - val_mae: 0.0033\n",
            "Epoch 66/100\n",
            "2026/2026 [==============================] - 18s 9ms/step - loss: 0.0012 - mae: 0.0028 - val_loss: 0.0012 - val_mae: 0.0032\n",
            "Epoch 67/100\n",
            "2026/2026 [==============================] - 17s 8ms/step - loss: 0.0012 - mae: 0.0028 - val_loss: 0.0012 - val_mae: 0.0014\n",
            "Epoch 68/100\n",
            "2026/2026 [==============================] - 26s 13ms/step - loss: 0.0012 - mae: 0.0027 - val_loss: 0.0012 - val_mae: 0.0017\n",
            "Epoch 69/100\n",
            "2026/2026 [==============================] - 17s 8ms/step - loss: 0.0012 - mae: 0.0028 - val_loss: 0.0012 - val_mae: 0.0020\n",
            "Epoch 70/100\n",
            "2026/2026 [==============================] - 26s 13ms/step - loss: 0.0012 - mae: 0.0027 - val_loss: 0.0012 - val_mae: 0.0013\n",
            "Epoch 71/100\n",
            "2026/2026 [==============================] - 26s 13ms/step - loss: 0.0012 - mae: 0.0027 - val_loss: 0.0012 - val_mae: 0.0018\n",
            "Epoch 72/100\n",
            "2026/2026 [==============================] - 16s 8ms/step - loss: 0.0012 - mae: 0.0028 - val_loss: 0.0012 - val_mae: 0.0015\n",
            "Epoch 73/100\n",
            "2026/2026 [==============================] - 26s 13ms/step - loss: 0.0012 - mae: 0.0027 - val_loss: 0.0012 - val_mae: 0.0015\n",
            "Epoch 74/100\n",
            "2026/2026 [==============================] - 26s 13ms/step - loss: 0.0012 - mae: 0.0027 - val_loss: 0.0012 - val_mae: 0.0012\n",
            "Epoch 75/100\n",
            "2007/2026 [============================>.] - ETA: 0s - loss: 0.0012 - mae: 0.0027Epoch 76/100\n",
            "2026/2026 [==============================] - 17s 8ms/step - loss: 0.0012 - mae: 0.0027 - val_loss: 0.0012 - val_mae: 0.0020\n",
            "Epoch 77/100\n",
            "2026/2026 [==============================] - 26s 13ms/step - loss: 0.0012 - mae: 0.0028 - val_loss: 0.0013 - val_mae: 0.0075\n",
            "Epoch 78/100\n",
            "2026/2026 [==============================] - 17s 9ms/step - loss: 0.0012 - mae: 0.0027 - val_loss: 0.0012 - val_mae: 0.0017\n",
            "Epoch 79/100\n",
            "2026/2026 [==============================] - 17s 8ms/step - loss: 0.0012 - mae: 0.0027 - val_loss: 0.0012 - val_mae: 0.0024\n",
            "Epoch 80/100\n",
            "2026/2026 [==============================] - 26s 13ms/step - loss: 0.0012 - mae: 0.0027 - val_loss: 0.0012 - val_mae: 0.0014\n",
            "Epoch 81/100\n",
            "2026/2026 [==============================] - 26s 13ms/step - loss: 0.0012 - mae: 0.0028 - val_loss: 0.0012 - val_mae: 0.0048\n",
            "Epoch 82/100\n",
            "2026/2026 [==============================] - 16s 8ms/step - loss: 0.0012 - mae: 0.0027 - val_loss: 0.0012 - val_mae: 0.0036\n",
            "Epoch 83/100\n",
            "2026/2026 [==============================] - 26s 13ms/step - loss: 0.0012 - mae: 0.0027 - val_loss: 0.0012 - val_mae: 0.0019\n",
            "Epoch 84/100\n",
            "2026/2026 [==============================] - 17s 8ms/step - loss: 0.0012 - mae: 0.0028 - val_loss: 0.0012 - val_mae: 0.0012\n",
            "Epoch 85/100\n",
            "2026/2026 [==============================] - 17s 8ms/step - loss: 0.0012 - mae: 0.0028 - val_loss: 0.0012 - val_mae: 0.0018\n",
            "Epoch 86/100\n",
            "2026/2026 [==============================] - 17s 9ms/step - loss: 0.0012 - mae: 0.0026 - val_loss: 0.0012 - val_mae: 0.0028\n",
            "Epoch 87/100\n",
            "2026/2026 [==============================] - 19s 9ms/step - loss: 0.0012 - mae: 0.0028 - val_loss: 0.0012 - val_mae: 0.0032\n",
            "Epoch 88/100\n",
            "2026/2026 [==============================] - 17s 8ms/step - loss: 0.0012 - mae: 0.0027 - val_loss: 0.0012 - val_mae: 0.0017\n",
            "Epoch 89/100\n",
            "2026/2026 [==============================] - 26s 13ms/step - loss: 0.0012 - mae: 0.0027 - val_loss: 0.0012 - val_mae: 0.0015\n",
            "Epoch 90/100\n",
            "2026/2026 [==============================] - 26s 13ms/step - loss: 0.0012 - mae: 0.0027 - val_loss: 0.0012 - val_mae: 0.0054\n",
            "Epoch 91/100\n",
            "2026/2026 [==============================] - 26s 13ms/step - loss: 0.0012 - mae: 0.0027 - val_loss: 0.0012 - val_mae: 0.0016\n",
            "Epoch 92/100\n",
            "2026/2026 [==============================] - 17s 9ms/step - loss: 0.0012 - mae: 0.0027 - val_loss: 0.0012 - val_mae: 0.0013\n",
            "Epoch 93/100\n",
            "2026/2026 [==============================] - 17s 9ms/step - loss: 0.0012 - mae: 0.0028 - val_loss: 0.0012 - val_mae: 0.0039\n",
            "Epoch 94/100\n",
            "2026/2026 [==============================] - 26s 13ms/step - loss: 0.0012 - mae: 0.0026 - val_loss: 0.0012 - val_mae: 0.0066\n",
            "Epoch 95/100\n",
            "2026/2026 [==============================] - ETA: 0s - loss: 0.0012 - mae: 0.0028Epoch 96/100\n",
            "2026/2026 [==============================] - 26s 13ms/step - loss: 0.0012 - mae: 0.0028 - val_loss: 0.0012 - val_mae: 0.0020\n",
            "Epoch 97/100\n",
            "2026/2026 [==============================] - 20s 10ms/step - loss: 0.0012 - mae: 0.0027 - val_loss: 0.0012 - val_mae: 0.0024\n",
            "Epoch 98/100\n",
            "2026/2026 [==============================] - 17s 9ms/step - loss: 0.0012 - mae: 0.0028 - val_loss: 0.0012 - val_mae: 0.0016\n",
            "Epoch 99/100\n",
            "2026/2026 [==============================] - 27s 13ms/step - loss: 0.0012 - mae: 0.0027 - val_loss: 0.0012 - val_mae: 0.0023\n",
            "Epoch 100/100\n",
            "2026/2026 [==============================] - 16s 8ms/step - loss: 0.0012 - mae: 0.0028 - val_loss: 0.0012 - val_mae: 0.0026\n"
          ]
        }
      ]
    },
    {
      "cell_type": "code",
      "source": [
        "import pickle\n",
        "with open('ai1.pickle','wb') as f:\n",
        "  pickle.dump(history,f)"
      ],
      "metadata": {
        "id": "rNxX8tkZzhCe"
      },
      "execution_count": null,
      "outputs": []
    },
    {
      "cell_type": "code",
      "source": [
        "from matplotlib import pyplot as plt\n",
        "loss = history.history['loss']\n",
        "val_loss = history.history['val_loss']\n",
        "epochs = range(1, len(loss) + 1)\n",
        "plt.plot(epochs, loss, 'y', label='Training loss')\n",
        "plt.plot(epochs, val_loss, 'r', label='Validation loss')\n",
        "plt.title('Training and Validation Loss')\n",
        "plt.xlabel('Epochs')\n",
        "plt.ylabel('Loss')\n",
        "plt.legend()\n",
        "plt.show()\n"
      ],
      "metadata": {
        "colab": {
          "base_uri": "https://localhost:8080/",
          "height": 295
        },
        "id": "7XZEy5Lzsz_j",
        "outputId": "f889f3ff-7cc9-4b27-b73e-a9dd717b628a"
      },
      "execution_count": null,
      "outputs": [
        {
          "output_type": "display_data",
          "data": {
            "text/plain": [
              "<Figure size 432x288 with 1 Axes>"
            ],
            "image/png": "[encoded data removed]"
          },
          "metadata": {
            "needs_background": "light"
          }
        }
      ]
    },
    {
      "cell_type": "code",
      "source": [
        "acc = history.history['mae']\n",
        "val_acc = history.history['val_mae']\n",
        "plt.plot(epochs, acc, 'y', label='Training MAE')\n",
        "plt.plot(epochs, val_acc, 'r', label='Validation MAE')\n",
        "plt.title('Training and Validation MAE')\n",
        "plt.xlabel('Epochs')\n",
        "plt.ylabel('Accuracy')\n",
        "plt.legend()\n",
        "plt.show()\n"
      ],
      "metadata": {
        "colab": {
          "base_uri": "https://localhost:8080/",
          "height": 295
        },
        "id": "Vo9DqCQNs0CU",
        "outputId": "cde74d2b-29b4-48bd-8b47-c1a70eff4121"
      },
      "execution_count": null,
      "outputs": [
        {
          "output_type": "display_data",
          "data": {
            "text/plain": [
              "<Figure size 432x288 with 1 Axes>"
            ],
            "image/png": "[encoded data removed]"
          },
          "metadata": {
            "needs_background": "light"
          }
        }
      ]
    },
    {
      "cell_type": "code",
      "source": [
        "predictions = model.predict(X_test_scaled[1000:1010])\n",
        "print(\"Predicted values are: \", predictions)\n",
        "print(\"Original values are: \", y_test[1000:1010])"
      ],
      "metadata": {
        "colab": {
          "base_uri": "https://localhost:8080/"
        },
        "id": "rvKqgrtQxMA1",
        "outputId": "34711e29-95a6-4fe9-cd6c-28be46c2b9fb"
      },
      "execution_count": null,
      "outputs": [
        {
          "output_type": "stream",
          "name": "stdout",
          "text": [
            "1/1 [==============================] - 0s 24ms/step\n",
            "Predicted values are:  [[0.00136656]\n",
            " [0.00136656]\n",
            " [0.00136656]\n",
            " [0.00136656]\n",
            " [0.00136656]\n",
            " [0.00136656]\n",
            " [0.00136656]\n",
            " [0.00136656]\n",
            " [0.00136656]\n",
            " [0.00136656]]\n",
            "Original values are:  51105     0\n",
            "312247    0\n",
            "15880     0\n",
            "272198    0\n",
            "5484      0\n",
            "313341    0\n",
            "127797    0\n",
            "20275     0\n",
            "62474     0\n",
            "221726    0\n",
            "Name: motion, dtype: int64\n"
          ]
        }
      ]
    },
    {
      "cell_type": "code",
      "source": [
        "print(model.evaluate(X_train_scaled, y_train))"
      ],
      "metadata": {
        "colab": {
          "base_uri": "https://localhost:8080/"
        },
        "id": "mwz1yhlRCoWO",
        "outputId": "218192dd-9ea8-45c8-fe09-9084d274699a"
      },
      "execution_count": null,
      "outputs": [
        {
          "output_type": "stream",
          "name": "stdout",
          "text": [
            "10130/10130 [==============================] - 46s 5ms/step - loss: 0.0012 - mae: 0.0026\n",
            "[0.0012263791868463159, 0.0025907200761139393]\n"
          ]
        }
      ]
    },
    {
      "cell_type": "code",
      "source": [
        "print(model.evaluate(X_test_scaled, y_test))"
      ],
      "metadata": {
        "colab": {
          "base_uri": "https://localhost:8080/"
        },
        "id": "hBzCSZ09CyvN",
        "outputId": "7210d390-ed7d-418e-d4a8-4436572c8adc"
      },
      "execution_count": null,
      "outputs": [
        {
          "output_type": "stream",
          "name": "stdout",
          "text": [
            "2533/2533 [==============================] - 5s 2ms/step - loss: 0.0010 - mae: 0.0024\n",
            "[0.001035622670315206, 0.0024003242142498493]\n"
          ]
        }
      ]
    },
    {
      "cell_type": "code",
      "source": [
        "mse_neural, mae_neural = model.evaluate(X_test_scaled, y_test)\n",
        "print('Mean squared error: ', mse_neural)\n",
        "print('Mean absolute error: ', mae_neural)"
      ],
      "metadata": {
        "colab": {
          "base_uri": "https://localhost:8080/"
        },
        "id": "StCod2AnxMH4",
        "outputId": "f449a181-d1d2-4819-ee4e-2a050c6a6867"
      },
      "execution_count": null,
      "outputs": [
        {
          "output_type": "stream",
          "name": "stdout",
          "text": [
            "2533/2533 [==============================] - 6s 2ms/step - loss: 0.0010 - mae: 0.0024\n",
            "Mean squared error:  0.001035622670315206\n",
            "Mean absolute error:  0.0024003242142498493\n"
          ]
        }
      ]
    }
  ]
}